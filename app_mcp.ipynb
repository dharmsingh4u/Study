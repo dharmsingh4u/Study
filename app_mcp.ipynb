{
 "cells": [
  {
   "cell_type": "code",
   "execution_count": null,
   "id": "70aedbe4",
   "metadata": {},
   "outputs": [],
   "source": [
    "import sys\n",
    "from langchain_openai import ChatOpenAI,OpenAIEmbeddings\n",
    "from langchain_core.messages import HumanMessage,AIMessage,SystemMessage,BaseMessage\n",
    "from langchain_core.output_parsers import StrOutputParser,PydanticOutputParser\n",
    "from langchain_core.prompts import PromptTemplate,ChatPromptTemplate,SystemMessagePromptTemplate, HumanMessagePromptTemplate\n",
    "from langgraph.checkpoint.memory import InMemorySaver\n",
    "from langgraph.graph.message import add_messages\n"
   ]
  },
  {
   "cell_type": "code",
   "execution_count": 1,
   "id": "34286d07",
   "metadata": {},
   "outputs": [],
   "source": [
    "import sys\n",
    "from langchain_openai import ChatOpenAI,OpenAIEmbeddings\n",
    "from langchain_core.messages import HumanMessage,AIMessage,SystemMessage,BaseMessage\n",
    "from langchain_core.output_parsers import StrOutputParser,PydanticOutputParser\n",
    "from langchain_core.prompts import PromptTemplate,ChatPromptTemplate,SystemMessagePromptTemplate, HumanMessagePromptTemplate\n",
    "from langgraph.checkpoint.memory import InMemorySaver\n",
    "from langgraph.graph.message import add_messages\n",
    "sys.path.insert(1, r'C:\\Users\\Dharmendra Vartika\\LLM\\env')\n",
    "from enviorment import load_env\n",
    "import os \n",
    "load_env()\n",
    "model =ChatOpenAI()\n",
    "from langgraph.graph import StateGraph,START, END\n",
    "from typing import TypedDict,Annotated,Literal\n",
    "import operator\n",
    "from langgraph.prebuilt import ToolNode, tools_condition\n",
    "from langchain_community.tools import DuckDuckGoSearchRun\n",
    "from langchain_core.tools import tool\n",
    "from langchain_community.tools.tavily_search import TavilySearchResults\n",
    "import yfinance as yf\n",
    "from ta.momentum import RSIIndicator\n",
    "from pydantic import BaseModel, Field"
   ]
  },
  {
   "cell_type": "code",
   "execution_count": 2,
   "id": "94f19ce0",
   "metadata": {},
   "outputs": [
    {
     "data": {
      "text/plain": [
       "AIMessage(content='AI, or artificial intelligence, refers to the simulation of human intelligence processes by machines, such as computer systems. This includes tasks such as learning, reasoning, problem-solving, perception, language understanding, and decision-making. AI technology allows machines to perform tasks that typically require human intelligence, such as visual perception, speech recognition, decision-making, and language translation. Some examples of AI applications include virtual assistants like Siri and Alexa, autonomous vehicles, recommendation systems, and facial recognition technology.', additional_kwargs={'refusal': None}, response_metadata={'token_usage': {'completion_tokens': 95, 'prompt_tokens': 10, 'total_tokens': 105, 'completion_tokens_details': {'accepted_prediction_tokens': 0, 'audio_tokens': 0, 'reasoning_tokens': 0, 'rejected_prediction_tokens': 0}, 'prompt_tokens_details': {'audio_tokens': 0, 'cached_tokens': 0}}, 'model_name': 'gpt-3.5-turbo-0125', 'system_fingerprint': None, 'id': 'chatcmpl-CUn4lBNBsUeRCFqUNHyRqte56Ik9y', 'service_tier': 'default', 'finish_reason': 'stop', 'logprobs': None}, id='run--b7c64626-ccb3-4aee-9a1c-d1d853aeda19-0', usage_metadata={'input_tokens': 10, 'output_tokens': 95, 'total_tokens': 105, 'input_token_details': {'audio': 0, 'cache_read': 0}, 'output_token_details': {'audio': 0, 'reasoning': 0}})"
      ]
     },
     "execution_count": 2,
     "metadata": {},
     "output_type": "execute_result"
    }
   ],
   "source": [
    "text='what is AI'\n",
    "model.invoke(text)"
   ]
  },
  {
   "cell_type": "code",
   "execution_count": 3,
   "id": "c1bcf7b8",
   "metadata": {},
   "outputs": [],
   "source": [
    "import asyncio\n",
    "import os\n",
    "#from langchain_openai import ChatOpenAI\n",
    "from mcp_use import MCPAgent, MCPClient\n",
    "\n",
    "async def main():\n",
    "    # Load environment variables\n",
    "\n",
    "    # Create MCPClient from config file\n",
    "    client = MCPClient.from_config_file(\n",
    "        os.path.join(os.path.dirname(__file__), \"browser.json\")\n",
    "    )\n",
    "    print ('client is',client)\n",
    "    # Create LLM\n",
    "    llm = model\n",
    "    # Alternative models:\n",
    "    # llm = ChatAnthropic(model=\"claude-3-5-sonnet-20240620\")\n",
    "    # llm = ChatGroq(model=\"llama3-8b-8192\")\n",
    "\n",
    "    # Create agent with the client\n",
    "    agent = MCPAgent(llm=llm, client=client, max_steps=30)\n",
    "\n",
    "    # Run the query\n",
    "    result = await agent.run(\n",
    "        \"Find the best restaurant in San Francisco USING GOOGLE SEARCH\",\n",
    "        max_steps=30,\n",
    "    )\n",
    "    print(f\"\\nResult: {result}\")\n",
    "\n",
    "#if __name__ == \"__main__\":\n",
    "#    asyncio.run(main())"
   ]
  },
  {
   "cell_type": "code",
   "execution_count": 4,
   "id": "be737ed7",
   "metadata": {},
   "outputs": [
    {
     "ename": "RuntimeError",
     "evalue": "asyncio.run() cannot be called from a running event loop",
     "output_type": "error",
     "traceback": [
      "\u001b[31m---------------------------------------------------------------------------\u001b[39m",
      "\u001b[31mRuntimeError\u001b[39m                              Traceback (most recent call last)",
      "\u001b[36mCell\u001b[39m\u001b[36m \u001b[39m\u001b[32mIn[4]\u001b[39m\u001b[32m, line 1\u001b[39m\n\u001b[32m----> \u001b[39m\u001b[32m1\u001b[39m \u001b[43masyncio\u001b[49m\u001b[43m.\u001b[49m\u001b[43mrun\u001b[49m\u001b[43m(\u001b[49m\u001b[43mmain\u001b[49m\u001b[43m(\u001b[49m\u001b[43m)\u001b[49m\u001b[43m)\u001b[49m\n",
      "\u001b[36mFile \u001b[39m\u001b[32mc:\\Anaconda\\Lib\\asyncio\\runners.py:190\u001b[39m, in \u001b[36mrun\u001b[39m\u001b[34m(main, debug, loop_factory)\u001b[39m\n\u001b[32m    161\u001b[39m \u001b[38;5;250m\u001b[39m\u001b[33;03m\"\"\"Execute the coroutine and return the result.\u001b[39;00m\n\u001b[32m    162\u001b[39m \n\u001b[32m    163\u001b[39m \u001b[33;03mThis function runs the passed coroutine, taking care of\u001b[39;00m\n\u001b[32m   (...)\u001b[39m\u001b[32m    186\u001b[39m \u001b[33;03m    asyncio.run(main())\u001b[39;00m\n\u001b[32m    187\u001b[39m \u001b[33;03m\"\"\"\u001b[39;00m\n\u001b[32m    188\u001b[39m \u001b[38;5;28;01mif\u001b[39;00m events._get_running_loop() \u001b[38;5;129;01mis\u001b[39;00m \u001b[38;5;129;01mnot\u001b[39;00m \u001b[38;5;28;01mNone\u001b[39;00m:\n\u001b[32m    189\u001b[39m     \u001b[38;5;66;03m# fail fast with short traceback\u001b[39;00m\n\u001b[32m--> \u001b[39m\u001b[32m190\u001b[39m     \u001b[38;5;28;01mraise\u001b[39;00m \u001b[38;5;167;01mRuntimeError\u001b[39;00m(\n\u001b[32m    191\u001b[39m         \u001b[33m\"\u001b[39m\u001b[33masyncio.run() cannot be called from a running event loop\u001b[39m\u001b[33m\"\u001b[39m)\n\u001b[32m    193\u001b[39m \u001b[38;5;28;01mwith\u001b[39;00m Runner(debug=debug, loop_factory=loop_factory) \u001b[38;5;28;01mas\u001b[39;00m runner:\n\u001b[32m    194\u001b[39m     \u001b[38;5;28;01mreturn\u001b[39;00m runner.run(main)\n",
      "\u001b[31mRuntimeError\u001b[39m: asyncio.run() cannot be called from a running event loop"
     ]
    }
   ],
   "source": [
    "asyncio.run(main())"
   ]
  },
  {
   "cell_type": "code",
   "execution_count": null,
   "id": "c1feec68",
   "metadata": {},
   "outputs": [],
   "source": []
  }
 ],
 "metadata": {
  "kernelspec": {
   "display_name": "Python 3",
   "language": "python",
   "name": "python3"
  },
  "language_info": {
   "codemirror_mode": {
    "name": "ipython",
    "version": 3
   },
   "file_extension": ".py",
   "mimetype": "text/x-python",
   "name": "python",
   "nbconvert_exporter": "python",
   "pygments_lexer": "ipython3",
   "version": "3.13.9"
  }
 },
 "nbformat": 4,
 "nbformat_minor": 5
}
